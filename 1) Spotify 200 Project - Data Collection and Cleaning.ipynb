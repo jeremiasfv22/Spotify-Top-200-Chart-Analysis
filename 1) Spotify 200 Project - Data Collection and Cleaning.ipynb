{
 "cells": [
  {
   "cell_type": "markdown",
   "metadata": {},
   "source": [
    "# 1) Data Collection - Spotify 200 Charts Analysis\n",
    "\n",
    "The following Notebook is part 1 to a four-part series. This Notebook, specifically, collects data from [kworb.net](https://kworb.net/spotify/), which itself is sourced from [Spotify](https://charts.spotify.com/charts/overview/us). In this sheet, we do the following:\n",
    "\n",
    "- Collect all URLs from kworb.net's USA Chart\n",
    "- Aggregate data from all URls collected (each URL has different column lengths) into one dataframe\n",
    "- Clean the data to a dataset of only 3 columns\n",
    "    - Date\n",
    "    - Streams\n",
    "    - Title"
   ]
  },
  {
   "cell_type": "code",
   "execution_count": 1,
   "metadata": {},
   "outputs": [],
   "source": [
    "import pandas as pd\n",
    "import numpy as np\n",
    "from bs4 import BeautifulSoup\n",
    "import requests\n",
    "import re\n",
    "import time\n",
    "import os\n",
    "import sys\n",
    "from tqdm import tqdm\n",
    "import random\n",
    "import csv"
   ]
  },
  {
   "cell_type": "markdown",
   "metadata": {},
   "source": [
    "# Obtain all URLs from the [Kworb USA site](https://kworb.net/spotify/country/us_weekly_totals.html)\n",
    "\n",
    "\n"
   ]
  },
  {
   "cell_type": "code",
   "execution_count": 2,
   "metadata": {},
   "outputs": [
    {
     "name": "stdout",
     "output_type": "stream",
     "text": [
      "The kworb links file is empty. You may proceed to add URLs.\n"
     ]
    }
   ],
   "source": [
    "parent_url = 'https://kworb.net/spotify/country/us_weekly_totals.html' # get kworb us weekly totals url\n",
    "\n",
    "# get the page via BeautifulSoup\n",
    "page = requests.get(parent_url)\n",
    "soup = BeautifulSoup(page.content, 'html.parser')\n",
    "\n",
    "# get the table\n",
    "table = soup.find('table')\n",
    "rows = table.find_all('tr')\n",
    "\n",
    "\n",
    "def get_track_href(row):\n",
    "    # Find the first 'a' tag in the row where the 'href' contains the word 'track'\n",
    "    track_link = row.find('a', href=lambda href: href and 'track' in href)\n",
    "    \n",
    "    # If such a link is found, extract and return the 'href' attribute\n",
    "    if track_link:\n",
    "        track_href = track_link['href']\n",
    "        return track_href\n",
    "    \n",
    "    # If no track link is found, return None\n",
    "    return None\n",
    "\n",
    "song_url = 'https://kworb.net/spotify'\n",
    "\n",
    "# Read the CSV into a DataFrame\n",
    "links_file_path = '/Users/jeremiasfigueroa/Desktop/Data Projects/USA Hit Music Analysis Project/Spotify 200 Analysis/updated_kworb_links.csv'\n",
    "\n",
    "# Open file in write mode to clear previous content\n",
    "with open(links_file_path, 'w') as f:\n",
    "    pass  # Just to clear the file\n",
    "\n",
    "try:\n",
    "    df = pd.read_csv(links_file_path)\n",
    "    if df.empty:\n",
    "        print(\"The file is empty and the DataFrame has no data.\")\n",
    "    else:\n",
    "        print(\"The DataFrame has data.\")\n",
    "except pd.errors.EmptyDataError:\n",
    "    print(\"The kworb links file is empty. You may proceed to add URLs.\")"
   ]
  },
  {
   "cell_type": "code",
   "execution_count": 3,
   "metadata": {},
   "outputs": [
    {
     "data": {
      "text/html": [
       "<div>\n",
       "<style scoped>\n",
       "    .dataframe tbody tr th:only-of-type {\n",
       "        vertical-align: middle;\n",
       "    }\n",
       "\n",
       "    .dataframe tbody tr th {\n",
       "        vertical-align: top;\n",
       "    }\n",
       "\n",
       "    .dataframe thead th {\n",
       "        text-align: right;\n",
       "    }\n",
       "</style>\n",
       "<table border=\"1\" class=\"dataframe\">\n",
       "  <thead>\n",
       "    <tr style=\"text-align: right;\">\n",
       "      <th></th>\n",
       "      <th>0</th>\n",
       "    </tr>\n",
       "  </thead>\n",
       "  <tbody>\n",
       "    <tr>\n",
       "      <th>0</th>\n",
       "      <td>https://kworb.net/spotify/track/0RiRZpuVRbi7oq...</td>\n",
       "    </tr>\n",
       "    <tr>\n",
       "      <th>1</th>\n",
       "      <td>https://kworb.net/spotify/track/68Dni7IE4VyPkT...</td>\n",
       "    </tr>\n",
       "    <tr>\n",
       "      <th>2</th>\n",
       "      <td>https://kworb.net/spotify/track/285pBltuF7vW8T...</td>\n",
       "    </tr>\n",
       "    <tr>\n",
       "      <th>3</th>\n",
       "      <td>https://kworb.net/spotify/track/2QjOHCTQ1Jl3za...</td>\n",
       "    </tr>\n",
       "    <tr>\n",
       "      <th>4</th>\n",
       "      <td>https://kworb.net/spotify/track/7GX5flRQZVHRAG...</td>\n",
       "    </tr>\n",
       "    <tr>\n",
       "      <th>...</th>\n",
       "      <td>...</td>\n",
       "    </tr>\n",
       "    <tr>\n",
       "      <th>8682</th>\n",
       "      <td>https://kworb.net/spotify/track/0jhYMcAqY9LkMC...</td>\n",
       "    </tr>\n",
       "    <tr>\n",
       "      <th>8683</th>\n",
       "      <td>https://kworb.net/spotify/track/2DOykLfhy5XEHx...</td>\n",
       "    </tr>\n",
       "    <tr>\n",
       "      <th>8684</th>\n",
       "      <td>https://kworb.net/spotify/track/72Yfw4fVEbJNGa...</td>\n",
       "    </tr>\n",
       "    <tr>\n",
       "      <th>8685</th>\n",
       "      <td>https://kworb.net/spotify/track/7KKW3MSfqCCai7...</td>\n",
       "    </tr>\n",
       "    <tr>\n",
       "      <th>8686</th>\n",
       "      <td>https://kworb.net/spotify/track/4UaWrzY75h1tAv...</td>\n",
       "    </tr>\n",
       "  </tbody>\n",
       "</table>\n",
       "<p>8687 rows × 1 columns</p>\n",
       "</div>"
      ],
      "text/plain": [
       "                                                      0\n",
       "0     https://kworb.net/spotify/track/0RiRZpuVRbi7oq...\n",
       "1     https://kworb.net/spotify/track/68Dni7IE4VyPkT...\n",
       "2     https://kworb.net/spotify/track/285pBltuF7vW8T...\n",
       "3     https://kworb.net/spotify/track/2QjOHCTQ1Jl3za...\n",
       "4     https://kworb.net/spotify/track/7GX5flRQZVHRAG...\n",
       "...                                                 ...\n",
       "8682  https://kworb.net/spotify/track/0jhYMcAqY9LkMC...\n",
       "8683  https://kworb.net/spotify/track/2DOykLfhy5XEHx...\n",
       "8684  https://kworb.net/spotify/track/72Yfw4fVEbJNGa...\n",
       "8685  https://kworb.net/spotify/track/7KKW3MSfqCCai7...\n",
       "8686  https://kworb.net/spotify/track/4UaWrzY75h1tAv...\n",
       "\n",
       "[8687 rows x 1 columns]"
      ]
     },
     "execution_count": 3,
     "metadata": {},
     "output_type": "execute_result"
    }
   ],
   "source": [
    "# Now append the new URLs\n",
    "for row in rows:\n",
    "    try:\n",
    "        track_href = get_track_href(row)\n",
    "        if track_href:\n",
    "            # remove the first two '..' in the href\n",
    "            track_href = track_href[2:]\n",
    "            # save it to csv file\n",
    "            with open(links_file_path, 'a') as f:\n",
    "                f.write(song_url + track_href + '\\n')\n",
    "    except:\n",
    "        pass\n",
    "\n",
    "# Load the CSV file to verify the URLs\n",
    "song_urls = pd.read_csv(links_file_path, header=None)\n",
    "song_urls"
   ]
  },
  {
   "cell_type": "markdown",
   "metadata": {},
   "source": [
    "# Retrieve raw data from each link above and write into csv\n",
    "\n",
    "First, create a date variable (to be used when naming CSV files)"
   ]
  },
  {
   "cell_type": "code",
   "execution_count": 4,
   "metadata": {},
   "outputs": [],
   "source": [
    "from datetime import datetime\n",
    "\n",
    "# Specify a custom date or leave it as None for today's date\n",
    "custom_date = None  # Change this to a specific date if needed\n",
    "\n",
    "# Use the custom date if specified; otherwise, use the current date\n",
    "if custom_date:\n",
    "    # Convert the string to a datetime object\n",
    "    custom_date_obj = datetime.strptime(custom_date, '%m/%d/%Y')\n",
    "    formatted_date = custom_date_obj.strftime('%B_%d_%Y').lower().replace(' ', '_')\n",
    "else:\n",
    "    current_date = datetime.now()\n",
    "    formatted_date = current_date.strftime('%B_%d_%Y').lower().replace(' ', '_')\n",
    "\n",
    "\n",
    "# Define the output CSV file with the dynamic date\n",
    "output_csv = f'/Users/jeremiasfigueroa/Desktop/Data Projects/USA Hit Music Analysis Project/Spotify 200 Analysis/updated_kworb_data_{formatted_date}.csv'\n"
   ]
  },
  {
   "cell_type": "code",
   "execution_count": 5,
   "metadata": {},
   "outputs": [
    {
     "name": "stderr",
     "output_type": "stream",
     "text": [
      "Processing URLs:   1%|          | 100/8687 [02:30<2:57:57,  1.24s/it]"
     ]
    },
    {
     "name": "stdout",
     "output_type": "stream",
     "text": [
      "100 URLs processed...\n"
     ]
    },
    {
     "name": "stderr",
     "output_type": "stream",
     "text": [
      "Processing URLs:   2%|▏         | 200/8687 [04:48<3:29:12,  1.48s/it]"
     ]
    },
    {
     "name": "stdout",
     "output_type": "stream",
     "text": [
      "200 URLs processed...\n"
     ]
    },
    {
     "name": "stderr",
     "output_type": "stream",
     "text": [
      "Processing URLs:   3%|▎         | 300/8687 [07:05<3:10:40,  1.36s/it]"
     ]
    },
    {
     "name": "stdout",
     "output_type": "stream",
     "text": [
      "300 URLs processed...\n"
     ]
    },
    {
     "name": "stderr",
     "output_type": "stream",
     "text": [
      "Processing URLs:   5%|▍         | 400/8687 [09:23<3:48:09,  1.65s/it]"
     ]
    },
    {
     "name": "stdout",
     "output_type": "stream",
     "text": [
      "400 URLs processed...\n"
     ]
    },
    {
     "name": "stderr",
     "output_type": "stream",
     "text": [
      "Processing URLs:   6%|▌         | 500/8687 [11:31<3:09:07,  1.39s/it]"
     ]
    },
    {
     "name": "stdout",
     "output_type": "stream",
     "text": [
      "500 URLs processed...\n"
     ]
    },
    {
     "name": "stderr",
     "output_type": "stream",
     "text": [
      "Processing URLs:   7%|▋         | 600/8687 [13:26<3:18:40,  1.47s/it]"
     ]
    },
    {
     "name": "stdout",
     "output_type": "stream",
     "text": [
      "600 URLs processed...\n"
     ]
    },
    {
     "name": "stderr",
     "output_type": "stream",
     "text": [
      "Processing URLs:   8%|▊         | 700/8687 [15:17<2:11:24,  1.01it/s]"
     ]
    },
    {
     "name": "stdout",
     "output_type": "stream",
     "text": [
      "700 URLs processed...\n"
     ]
    },
    {
     "name": "stderr",
     "output_type": "stream",
     "text": [
      "Processing URLs:   9%|▉         | 800/8687 [17:04<2:34:22,  1.17s/it]"
     ]
    },
    {
     "name": "stdout",
     "output_type": "stream",
     "text": [
      "800 URLs processed...\n"
     ]
    },
    {
     "name": "stderr",
     "output_type": "stream",
     "text": [
      "Processing URLs:  10%|█         | 900/8687 [18:54<1:41:40,  1.28it/s]"
     ]
    },
    {
     "name": "stdout",
     "output_type": "stream",
     "text": [
      "900 URLs processed...\n"
     ]
    },
    {
     "name": "stderr",
     "output_type": "stream",
     "text": [
      "Processing URLs:  12%|█▏        | 1000/8687 [20:40<2:19:10,  1.09s/it]"
     ]
    },
    {
     "name": "stdout",
     "output_type": "stream",
     "text": [
      "1000 URLs processed...\n"
     ]
    },
    {
     "name": "stderr",
     "output_type": "stream",
     "text": [
      "Processing URLs:  13%|█▎        | 1100/8687 [22:15<1:45:50,  1.19it/s]"
     ]
    },
    {
     "name": "stdout",
     "output_type": "stream",
     "text": [
      "1100 URLs processed...\n"
     ]
    },
    {
     "name": "stderr",
     "output_type": "stream",
     "text": [
      "Processing URLs:  14%|█▍        | 1200/8687 [24:17<2:28:44,  1.19s/it]"
     ]
    },
    {
     "name": "stdout",
     "output_type": "stream",
     "text": [
      "1200 URLs processed...\n"
     ]
    },
    {
     "name": "stderr",
     "output_type": "stream",
     "text": [
      "Processing URLs:  15%|█▍        | 1300/8687 [26:02<2:04:54,  1.01s/it]"
     ]
    },
    {
     "name": "stdout",
     "output_type": "stream",
     "text": [
      "1300 URLs processed...\n"
     ]
    },
    {
     "name": "stderr",
     "output_type": "stream",
     "text": [
      "Processing URLs:  16%|█▌        | 1400/8687 [27:42<1:41:30,  1.20it/s]"
     ]
    },
    {
     "name": "stdout",
     "output_type": "stream",
     "text": [
      "1400 URLs processed...\n"
     ]
    },
    {
     "name": "stderr",
     "output_type": "stream",
     "text": [
      "Processing URLs:  17%|█▋        | 1500/8687 [29:24<1:56:11,  1.03it/s]"
     ]
    },
    {
     "name": "stdout",
     "output_type": "stream",
     "text": [
      "1500 URLs processed...\n"
     ]
    },
    {
     "name": "stderr",
     "output_type": "stream",
     "text": [
      "Processing URLs:  18%|█▊        | 1600/8687 [31:04<1:28:39,  1.33it/s]"
     ]
    },
    {
     "name": "stdout",
     "output_type": "stream",
     "text": [
      "1600 URLs processed...\n"
     ]
    },
    {
     "name": "stderr",
     "output_type": "stream",
     "text": [
      "Processing URLs:  20%|█▉        | 1700/8687 [32:33<1:42:46,  1.13it/s]"
     ]
    },
    {
     "name": "stdout",
     "output_type": "stream",
     "text": [
      "1700 URLs processed...\n"
     ]
    },
    {
     "name": "stderr",
     "output_type": "stream",
     "text": [
      "Processing URLs:  21%|██        | 1800/8687 [34:08<2:10:20,  1.14s/it]"
     ]
    },
    {
     "name": "stdout",
     "output_type": "stream",
     "text": [
      "1800 URLs processed...\n"
     ]
    },
    {
     "name": "stderr",
     "output_type": "stream",
     "text": [
      "Processing URLs:  22%|██▏       | 1900/8687 [35:40<1:31:13,  1.24it/s]"
     ]
    },
    {
     "name": "stdout",
     "output_type": "stream",
     "text": [
      "1900 URLs processed...\n"
     ]
    },
    {
     "name": "stderr",
     "output_type": "stream",
     "text": [
      "Processing URLs:  23%|██▎       | 2000/8687 [37:12<1:40:18,  1.11it/s]"
     ]
    },
    {
     "name": "stdout",
     "output_type": "stream",
     "text": [
      "2000 URLs processed...\n"
     ]
    },
    {
     "name": "stderr",
     "output_type": "stream",
     "text": [
      "Processing URLs:  24%|██▍       | 2100/8687 [38:48<1:37:14,  1.13it/s]"
     ]
    },
    {
     "name": "stdout",
     "output_type": "stream",
     "text": [
      "2100 URLs processed...\n"
     ]
    },
    {
     "name": "stderr",
     "output_type": "stream",
     "text": [
      "Processing URLs:  25%|██▌       | 2200/8687 [40:17<1:25:55,  1.26it/s]"
     ]
    },
    {
     "name": "stdout",
     "output_type": "stream",
     "text": [
      "2200 URLs processed...\n"
     ]
    },
    {
     "name": "stderr",
     "output_type": "stream",
     "text": [
      "Processing URLs:  26%|██▋       | 2300/8687 [41:46<1:35:37,  1.11it/s]"
     ]
    },
    {
     "name": "stdout",
     "output_type": "stream",
     "text": [
      "2300 URLs processed...\n"
     ]
    },
    {
     "name": "stderr",
     "output_type": "stream",
     "text": [
      "Processing URLs:  28%|██▊       | 2400/8687 [43:08<1:30:15,  1.16it/s]"
     ]
    },
    {
     "name": "stdout",
     "output_type": "stream",
     "text": [
      "2400 URLs processed...\n"
     ]
    },
    {
     "name": "stderr",
     "output_type": "stream",
     "text": [
      "Processing URLs:  29%|██▉       | 2500/8687 [44:33<1:17:29,  1.33it/s]"
     ]
    },
    {
     "name": "stdout",
     "output_type": "stream",
     "text": [
      "2500 URLs processed...\n"
     ]
    },
    {
     "name": "stderr",
     "output_type": "stream",
     "text": [
      "Processing URLs:  30%|██▉       | 2600/8687 [45:59<1:38:19,  1.03it/s]"
     ]
    },
    {
     "name": "stdout",
     "output_type": "stream",
     "text": [
      "2600 URLs processed...\n"
     ]
    },
    {
     "name": "stderr",
     "output_type": "stream",
     "text": [
      "Processing URLs:  31%|███       | 2700/8687 [47:20<1:46:03,  1.06s/it]"
     ]
    },
    {
     "name": "stdout",
     "output_type": "stream",
     "text": [
      "2700 URLs processed...\n"
     ]
    },
    {
     "name": "stderr",
     "output_type": "stream",
     "text": [
      "Processing URLs:  32%|███▏      | 2800/8687 [48:42<1:40:41,  1.03s/it]"
     ]
    },
    {
     "name": "stdout",
     "output_type": "stream",
     "text": [
      "2800 URLs processed...\n"
     ]
    },
    {
     "name": "stderr",
     "output_type": "stream",
     "text": [
      "Processing URLs:  33%|███▎      | 2900/8687 [50:03<1:36:24,  1.00it/s]"
     ]
    },
    {
     "name": "stdout",
     "output_type": "stream",
     "text": [
      "2900 URLs processed...\n"
     ]
    },
    {
     "name": "stderr",
     "output_type": "stream",
     "text": [
      "Processing URLs:  35%|███▍      | 3000/8687 [51:28<1:08:21,  1.39it/s]"
     ]
    },
    {
     "name": "stdout",
     "output_type": "stream",
     "text": [
      "3000 URLs processed...\n"
     ]
    },
    {
     "name": "stderr",
     "output_type": "stream",
     "text": [
      "Processing URLs:  36%|███▌      | 3100/8687 [52:44<1:05:14,  1.43it/s]"
     ]
    },
    {
     "name": "stdout",
     "output_type": "stream",
     "text": [
      "3100 URLs processed...\n"
     ]
    },
    {
     "name": "stderr",
     "output_type": "stream",
     "text": [
      "Processing URLs:  37%|███▋      | 3200/8687 [54:02<1:08:54,  1.33it/s]"
     ]
    },
    {
     "name": "stdout",
     "output_type": "stream",
     "text": [
      "3200 URLs processed...\n"
     ]
    },
    {
     "name": "stderr",
     "output_type": "stream",
     "text": [
      "Processing URLs:  38%|███▊      | 3300/8687 [55:19<1:02:36,  1.43it/s]"
     ]
    },
    {
     "name": "stdout",
     "output_type": "stream",
     "text": [
      "3300 URLs processed...\n"
     ]
    },
    {
     "name": "stderr",
     "output_type": "stream",
     "text": [
      "Processing URLs:  39%|███▉      | 3400/8687 [56:33<1:05:48,  1.34it/s]"
     ]
    },
    {
     "name": "stdout",
     "output_type": "stream",
     "text": [
      "3400 URLs processed...\n"
     ]
    },
    {
     "name": "stderr",
     "output_type": "stream",
     "text": [
      "Processing URLs:  40%|████      | 3500/8687 [57:50<1:03:20,  1.36it/s]"
     ]
    },
    {
     "name": "stdout",
     "output_type": "stream",
     "text": [
      "3500 URLs processed...\n"
     ]
    },
    {
     "name": "stderr",
     "output_type": "stream",
     "text": [
      "Processing URLs:  41%|████▏     | 3600/8687 [59:09<1:11:33,  1.18it/s]"
     ]
    },
    {
     "name": "stdout",
     "output_type": "stream",
     "text": [
      "3600 URLs processed...\n"
     ]
    },
    {
     "name": "stderr",
     "output_type": "stream",
     "text": [
      "Processing URLs:  43%|████▎     | 3700/8687 [1:00:27<1:03:31,  1.31it/s]"
     ]
    },
    {
     "name": "stdout",
     "output_type": "stream",
     "text": [
      "3700 URLs processed...\n"
     ]
    },
    {
     "name": "stderr",
     "output_type": "stream",
     "text": [
      "Processing URLs:  44%|████▎     | 3800/8687 [1:01:45<56:48,  1.43it/s]  "
     ]
    },
    {
     "name": "stdout",
     "output_type": "stream",
     "text": [
      "3800 URLs processed...\n"
     ]
    },
    {
     "name": "stderr",
     "output_type": "stream",
     "text": [
      "Processing URLs:  45%|████▍     | 3900/8687 [1:03:00<52:31,  1.52it/s]  "
     ]
    },
    {
     "name": "stdout",
     "output_type": "stream",
     "text": [
      "3900 URLs processed...\n"
     ]
    },
    {
     "name": "stderr",
     "output_type": "stream",
     "text": [
      "Processing URLs:  46%|████▌     | 4000/8687 [1:04:15<54:33,  1.43it/s]  "
     ]
    },
    {
     "name": "stdout",
     "output_type": "stream",
     "text": [
      "4000 URLs processed...\n"
     ]
    },
    {
     "name": "stderr",
     "output_type": "stream",
     "text": [
      "Processing URLs:  47%|████▋     | 4100/8687 [1:05:26<52:08,  1.47it/s]  "
     ]
    },
    {
     "name": "stdout",
     "output_type": "stream",
     "text": [
      "4100 URLs processed...\n"
     ]
    },
    {
     "name": "stderr",
     "output_type": "stream",
     "text": [
      "Processing URLs:  48%|████▊     | 4200/8687 [1:06:34<52:30,  1.42it/s]  "
     ]
    },
    {
     "name": "stdout",
     "output_type": "stream",
     "text": [
      "4200 URLs processed...\n"
     ]
    },
    {
     "name": "stderr",
     "output_type": "stream",
     "text": [
      "Processing URLs:  49%|████▉     | 4300/8687 [1:07:43<46:57,  1.56it/s]  "
     ]
    },
    {
     "name": "stdout",
     "output_type": "stream",
     "text": [
      "4300 URLs processed...\n"
     ]
    },
    {
     "name": "stderr",
     "output_type": "stream",
     "text": [
      "Processing URLs:  51%|█████     | 4400/8687 [1:08:54<44:58,  1.59it/s]  "
     ]
    },
    {
     "name": "stdout",
     "output_type": "stream",
     "text": [
      "4400 URLs processed...\n"
     ]
    },
    {
     "name": "stderr",
     "output_type": "stream",
     "text": [
      "Processing URLs:  52%|█████▏    | 4500/8687 [1:10:08<44:09,  1.58it/s]  "
     ]
    },
    {
     "name": "stdout",
     "output_type": "stream",
     "text": [
      "4500 URLs processed...\n"
     ]
    },
    {
     "name": "stderr",
     "output_type": "stream",
     "text": [
      "Processing URLs:  53%|█████▎    | 4600/8687 [1:11:18<44:35,  1.53it/s]  "
     ]
    },
    {
     "name": "stdout",
     "output_type": "stream",
     "text": [
      "4600 URLs processed...\n"
     ]
    },
    {
     "name": "stderr",
     "output_type": "stream",
     "text": [
      "Processing URLs:  54%|█████▍    | 4700/8687 [1:12:27<42:01,  1.58it/s]  "
     ]
    },
    {
     "name": "stdout",
     "output_type": "stream",
     "text": [
      "4700 URLs processed...\n"
     ]
    },
    {
     "name": "stderr",
     "output_type": "stream",
     "text": [
      "Processing URLs:  55%|█████▌    | 4800/8687 [1:13:34<36:26,  1.78it/s]  "
     ]
    },
    {
     "name": "stdout",
     "output_type": "stream",
     "text": [
      "4800 URLs processed...\n"
     ]
    },
    {
     "name": "stderr",
     "output_type": "stream",
     "text": [
      "Processing URLs:  56%|█████▋    | 4900/8687 [1:14:42<38:00,  1.66it/s]  "
     ]
    },
    {
     "name": "stdout",
     "output_type": "stream",
     "text": [
      "4900 URLs processed...\n"
     ]
    },
    {
     "name": "stderr",
     "output_type": "stream",
     "text": [
      "Processing URLs:  58%|█████▊    | 5000/8687 [1:15:45<34:27,  1.78it/s]"
     ]
    },
    {
     "name": "stdout",
     "output_type": "stream",
     "text": [
      "5000 URLs processed...\n"
     ]
    },
    {
     "name": "stderr",
     "output_type": "stream",
     "text": [
      "Processing URLs:  59%|█████▊    | 5100/8687 [1:16:47<33:24,  1.79it/s]"
     ]
    },
    {
     "name": "stdout",
     "output_type": "stream",
     "text": [
      "5100 URLs processed...\n"
     ]
    },
    {
     "name": "stderr",
     "output_type": "stream",
     "text": [
      "Processing URLs:  60%|█████▉    | 5200/8687 [1:17:50<29:16,  1.99it/s]"
     ]
    },
    {
     "name": "stdout",
     "output_type": "stream",
     "text": [
      "5200 URLs processed...\n"
     ]
    },
    {
     "name": "stderr",
     "output_type": "stream",
     "text": [
      "Processing URLs:  61%|██████    | 5300/8687 [1:18:50<35:29,  1.59it/s]"
     ]
    },
    {
     "name": "stdout",
     "output_type": "stream",
     "text": [
      "5300 URLs processed...\n"
     ]
    },
    {
     "name": "stderr",
     "output_type": "stream",
     "text": [
      "Processing URLs:  62%|██████▏   | 5400/8687 [1:19:53<38:26,  1.43it/s]"
     ]
    },
    {
     "name": "stdout",
     "output_type": "stream",
     "text": [
      "5400 URLs processed...\n"
     ]
    },
    {
     "name": "stderr",
     "output_type": "stream",
     "text": [
      "Processing URLs:  63%|██████▎   | 5500/8687 [1:20:59<30:24,  1.75it/s]"
     ]
    },
    {
     "name": "stdout",
     "output_type": "stream",
     "text": [
      "5500 URLs processed...\n"
     ]
    },
    {
     "name": "stderr",
     "output_type": "stream",
     "text": [
      "Processing URLs:  64%|██████▍   | 5600/8687 [1:22:03<39:33,  1.30it/s]"
     ]
    },
    {
     "name": "stdout",
     "output_type": "stream",
     "text": [
      "5600 URLs processed...\n"
     ]
    },
    {
     "name": "stderr",
     "output_type": "stream",
     "text": [
      "Processing URLs:  66%|██████▌   | 5700/8687 [1:23:06<32:01,  1.55it/s]"
     ]
    },
    {
     "name": "stdout",
     "output_type": "stream",
     "text": [
      "5700 URLs processed...\n"
     ]
    },
    {
     "name": "stderr",
     "output_type": "stream",
     "text": [
      "Processing URLs:  67%|██████▋   | 5800/8687 [1:24:07<27:50,  1.73it/s]"
     ]
    },
    {
     "name": "stdout",
     "output_type": "stream",
     "text": [
      "5800 URLs processed...\n"
     ]
    },
    {
     "name": "stderr",
     "output_type": "stream",
     "text": [
      "Processing URLs:  68%|██████▊   | 5900/8687 [1:25:09<27:54,  1.66it/s]"
     ]
    },
    {
     "name": "stdout",
     "output_type": "stream",
     "text": [
      "5900 URLs processed...\n"
     ]
    },
    {
     "name": "stderr",
     "output_type": "stream",
     "text": [
      "Processing URLs:  69%|██████▉   | 6000/8687 [1:26:09<27:32,  1.63it/s]"
     ]
    },
    {
     "name": "stdout",
     "output_type": "stream",
     "text": [
      "6000 URLs processed...\n"
     ]
    },
    {
     "name": "stderr",
     "output_type": "stream",
     "text": [
      "Processing URLs:  70%|███████   | 6100/8687 [1:27:11<22:25,  1.92it/s]"
     ]
    },
    {
     "name": "stdout",
     "output_type": "stream",
     "text": [
      "6100 URLs processed...\n"
     ]
    },
    {
     "name": "stderr",
     "output_type": "stream",
     "text": [
      "Processing URLs:  71%|███████▏  | 6200/8687 [1:28:07<24:04,  1.72it/s]"
     ]
    },
    {
     "name": "stdout",
     "output_type": "stream",
     "text": [
      "6200 URLs processed...\n"
     ]
    },
    {
     "name": "stderr",
     "output_type": "stream",
     "text": [
      "Processing URLs:  73%|███████▎  | 6300/8687 [1:29:03<21:02,  1.89it/s]"
     ]
    },
    {
     "name": "stdout",
     "output_type": "stream",
     "text": [
      "6300 URLs processed...\n"
     ]
    },
    {
     "name": "stderr",
     "output_type": "stream",
     "text": [
      "Processing URLs:  74%|███████▎  | 6400/8687 [1:30:00<20:48,  1.83it/s]"
     ]
    },
    {
     "name": "stdout",
     "output_type": "stream",
     "text": [
      "6400 URLs processed...\n"
     ]
    },
    {
     "name": "stderr",
     "output_type": "stream",
     "text": [
      "Processing URLs:  75%|███████▍  | 6500/8687 [1:30:58<20:19,  1.79it/s]"
     ]
    },
    {
     "name": "stdout",
     "output_type": "stream",
     "text": [
      "6500 URLs processed...\n"
     ]
    },
    {
     "name": "stderr",
     "output_type": "stream",
     "text": [
      "Processing URLs:  76%|███████▌  | 6600/8687 [1:31:55<19:26,  1.79it/s]"
     ]
    },
    {
     "name": "stdout",
     "output_type": "stream",
     "text": [
      "6600 URLs processed...\n"
     ]
    },
    {
     "name": "stderr",
     "output_type": "stream",
     "text": [
      "Processing URLs:  77%|███████▋  | 6700/8687 [1:32:50<21:42,  1.53it/s]"
     ]
    },
    {
     "name": "stdout",
     "output_type": "stream",
     "text": [
      "6700 URLs processed...\n"
     ]
    },
    {
     "name": "stderr",
     "output_type": "stream",
     "text": [
      "Processing URLs:  78%|███████▊  | 6800/8687 [1:33:45<16:19,  1.93it/s]"
     ]
    },
    {
     "name": "stdout",
     "output_type": "stream",
     "text": [
      "6800 URLs processed...\n"
     ]
    },
    {
     "name": "stderr",
     "output_type": "stream",
     "text": [
      "Processing URLs:  79%|███████▉  | 6900/8687 [1:34:39<16:02,  1.86it/s]"
     ]
    },
    {
     "name": "stdout",
     "output_type": "stream",
     "text": [
      "6900 URLs processed...\n"
     ]
    },
    {
     "name": "stderr",
     "output_type": "stream",
     "text": [
      "Processing URLs:  81%|████████  | 7000/8687 [1:35:38<14:31,  1.94it/s]"
     ]
    },
    {
     "name": "stdout",
     "output_type": "stream",
     "text": [
      "7000 URLs processed...\n"
     ]
    },
    {
     "name": "stderr",
     "output_type": "stream",
     "text": [
      "Processing URLs:  82%|████████▏ | 7100/8687 [1:36:35<15:18,  1.73it/s]"
     ]
    },
    {
     "name": "stdout",
     "output_type": "stream",
     "text": [
      "7100 URLs processed...\n"
     ]
    },
    {
     "name": "stderr",
     "output_type": "stream",
     "text": [
      "Processing URLs:  83%|████████▎ | 7200/8687 [1:37:29<14:20,  1.73it/s]"
     ]
    },
    {
     "name": "stdout",
     "output_type": "stream",
     "text": [
      "7200 URLs processed...\n"
     ]
    },
    {
     "name": "stderr",
     "output_type": "stream",
     "text": [
      "Processing URLs:  84%|████████▍ | 7300/8687 [1:38:20<11:44,  1.97it/s]"
     ]
    },
    {
     "name": "stdout",
     "output_type": "stream",
     "text": [
      "7300 URLs processed...\n"
     ]
    },
    {
     "name": "stderr",
     "output_type": "stream",
     "text": [
      "Processing URLs:  85%|████████▌ | 7400/8687 [1:39:13<11:33,  1.86it/s]"
     ]
    },
    {
     "name": "stdout",
     "output_type": "stream",
     "text": [
      "7400 URLs processed...\n"
     ]
    },
    {
     "name": "stderr",
     "output_type": "stream",
     "text": [
      "Processing URLs:  86%|████████▋ | 7500/8687 [1:40:10<09:56,  1.99it/s]"
     ]
    },
    {
     "name": "stdout",
     "output_type": "stream",
     "text": [
      "7500 URLs processed...\n"
     ]
    },
    {
     "name": "stderr",
     "output_type": "stream",
     "text": [
      "Processing URLs:  87%|████████▋ | 7600/8687 [1:41:06<09:29,  1.91it/s]"
     ]
    },
    {
     "name": "stdout",
     "output_type": "stream",
     "text": [
      "7600 URLs processed...\n"
     ]
    },
    {
     "name": "stderr",
     "output_type": "stream",
     "text": [
      "Processing URLs:  89%|████████▊ | 7700/8687 [1:42:01<08:55,  1.84it/s]"
     ]
    },
    {
     "name": "stdout",
     "output_type": "stream",
     "text": [
      "7700 URLs processed...\n"
     ]
    },
    {
     "name": "stderr",
     "output_type": "stream",
     "text": [
      "Processing URLs:  90%|████████▉ | 7800/8687 [1:42:54<07:13,  2.05it/s]"
     ]
    },
    {
     "name": "stdout",
     "output_type": "stream",
     "text": [
      "7800 URLs processed...\n"
     ]
    },
    {
     "name": "stderr",
     "output_type": "stream",
     "text": [
      "Processing URLs:  91%|█████████ | 7900/8687 [1:43:50<09:03,  1.45it/s]"
     ]
    },
    {
     "name": "stdout",
     "output_type": "stream",
     "text": [
      "7900 URLs processed...\n"
     ]
    },
    {
     "name": "stderr",
     "output_type": "stream",
     "text": [
      "Processing URLs:  92%|█████████▏| 8000/8687 [1:44:47<05:50,  1.96it/s]"
     ]
    },
    {
     "name": "stdout",
     "output_type": "stream",
     "text": [
      "8000 URLs processed...\n"
     ]
    },
    {
     "name": "stderr",
     "output_type": "stream",
     "text": [
      "Processing URLs:  93%|█████████▎| 8100/8687 [1:45:46<05:52,  1.67it/s]"
     ]
    },
    {
     "name": "stdout",
     "output_type": "stream",
     "text": [
      "8100 URLs processed...\n"
     ]
    },
    {
     "name": "stderr",
     "output_type": "stream",
     "text": [
      "Processing URLs:  94%|█████████▍| 8200/8687 [1:46:49<04:37,  1.75it/s]"
     ]
    },
    {
     "name": "stdout",
     "output_type": "stream",
     "text": [
      "8200 URLs processed...\n"
     ]
    },
    {
     "name": "stderr",
     "output_type": "stream",
     "text": [
      "Processing URLs:  96%|█████████▌| 8300/8687 [1:47:50<03:49,  1.69it/s]"
     ]
    },
    {
     "name": "stdout",
     "output_type": "stream",
     "text": [
      "8300 URLs processed...\n"
     ]
    },
    {
     "name": "stderr",
     "output_type": "stream",
     "text": [
      "Processing URLs:  97%|█████████▋| 8400/8687 [1:48:49<02:39,  1.80it/s]"
     ]
    },
    {
     "name": "stdout",
     "output_type": "stream",
     "text": [
      "8400 URLs processed...\n"
     ]
    },
    {
     "name": "stderr",
     "output_type": "stream",
     "text": [
      "Processing URLs:  98%|█████████▊| 8500/8687 [1:49:48<02:05,  1.50it/s]"
     ]
    },
    {
     "name": "stdout",
     "output_type": "stream",
     "text": [
      "8500 URLs processed...\n"
     ]
    },
    {
     "name": "stderr",
     "output_type": "stream",
     "text": [
      "Processing URLs:  99%|█████████▉| 8600/8687 [1:50:51<00:46,  1.85it/s]"
     ]
    },
    {
     "name": "stdout",
     "output_type": "stream",
     "text": [
      "8600 URLs processed...\n"
     ]
    },
    {
     "name": "stderr",
     "output_type": "stream",
     "text": [
      "Processing URLs: 100%|██████████| 8687/8687 [1:51:39<00:00,  1.30it/s]"
     ]
    },
    {
     "name": "stdout",
     "output_type": "stream",
     "text": [
      "\n",
      "Processing completed. Total URLs processed successfully: 8687\n"
     ]
    },
    {
     "name": "stderr",
     "output_type": "stream",
     "text": [
      "\n"
     ]
    }
   ],
   "source": [
    "import requests\n",
    "from bs4 import BeautifulSoup\n",
    "import pandas as pd\n",
    "from tqdm import tqdm\n",
    "import random\n",
    "\n",
    "# List of user agents to simulate different browsers\n",
    "USER_AGENTS = [\n",
    "    \"Mozilla/5.0 (Windows NT 10.0; Win64; x64) AppleWebKit/537.36 (KHTML, like Gecko) Chrome/114.0.0.0 Safari/537.36\",\n",
    "    \"Mozilla/5.0 (Macintosh; Intel Mac OS X 10_15_7) AppleWebKit/537.36 (KHTML, like Gecko) Chrome/113.0.0.0 Safari/537.36\",\n",
    "    \"Mozilla/5.0 (Windows NT 10.0; Win64; x64) AppleWebKit/537.36 (KHTML, like Gecko) Firefox/113.0\",\n",
    "    \"Mozilla/5.0 (Macintosh; Intel Mac OS X 10.15; rv:88.0) Gecko/20100101 Firefox/88.0\",\n",
    "    \"Mozilla/5.0 (iPhone; CPU iPhone OS 14_6 like Mac OS X) AppleWebKit/605.1.15 (KHTML, like Gecko) Version/14.0 Mobile/15E148 Safari/604.1\"\n",
    "]\n",
    "\n",
    "# Track processed URLs and any errors\n",
    "processed_count = 0\n",
    "error_urls = []\n",
    "\n",
    "def process_spotify_chart(url, output_csv):\n",
    "    global processed_count  # Access the counter defined outside the function\n",
    "    headers = {\n",
    "        'User-Agent': random.choice(USER_AGENTS)\n",
    "    }\n",
    "    \n",
    "    # Fetch the HTML content from the URL\n",
    "    response = requests.get(url, headers=headers)\n",
    "    \n",
    "    if response.status_code != 200:\n",
    "        error_urls.append((url, f\"Status code: {response.status_code}\"))\n",
    "        return\n",
    "    \n",
    "    soup = BeautifulSoup(response.content, 'html.parser')\n",
    "    title = soup.title.string.strip() if soup.title else \"Unknown Title\"\n",
    "\n",
    "    # Find the table and check if it exists\n",
    "    table = soup.find('table')\n",
    "    if table is None:\n",
    "        error_urls.append((url, \"No table found\"))\n",
    "        return\n",
    "\n",
    "    rows = table.find_all('tr')\n",
    "    header = [th.text.strip() for th in rows[0].find_all('th')]\n",
    "\n",
    "    # Extract data rows\n",
    "    data = []\n",
    "    for row in rows[1:]:\n",
    "        cells = row.find_all('td')\n",
    "        if cells:\n",
    "            data.append([cell.text.strip() for cell in cells])\n",
    "\n",
    "    df = pd.DataFrame(data, columns=header)\n",
    "    df['Title'] = title\n",
    "    df.to_csv(output_csv, mode='a', index=False, header=True)\n",
    "\n",
    "    processed_count += 1  # Increment the counter\n",
    "\n",
    "    # Print only every 100 processed URLs\n",
    "    if processed_count % 100 == 0:\n",
    "        print(f\"{processed_count} URLs processed...\")\n",
    "\n",
    "# Load URLs\n",
    "links_df = pd.read_csv('/Users/jeremiasfigueroa/Desktop/Data Projects/USA Hit Music Analysis Project/Spotify 200 Analysis/updated_kworb_links.csv', header=None)\n",
    "links_df.columns = ['url']\n",
    "\n",
    "# Process URLs\n",
    "for i, url in enumerate(tqdm(links_df['url'], desc=\"Processing URLs\"), start=1):\n",
    "    process_spotify_chart(url, output_csv)\n",
    "\n",
    "# Final summary\n",
    "print(f\"\\nProcessing completed. Total URLs processed successfully: {processed_count}\")\n",
    "if error_urls:\n",
    "    print(f\"Total URLs with errors: {len(error_urls)}\")\n",
    "    for url, error in error_urls:\n",
    "        print(f\"- {url}: {error}\")\n",
    "\n"
   ]
  },
  {
   "cell_type": "markdown",
   "metadata": {},
   "source": [
    "# Clean the csv\n",
    "The csv is a collection of smaller csv's stacked on top of each other, and there is an inconsistent number of columns for each smaller csv. \n",
    "\n",
    "Therefore, we need to determine the max number of columns before importing the csv.\n"
   ]
  },
  {
   "cell_type": "code",
   "execution_count": 6,
   "metadata": {},
   "outputs": [
    {
     "data": {
      "text/html": [
       "<div>\n",
       "<style scoped>\n",
       "    .dataframe tbody tr th:only-of-type {\n",
       "        vertical-align: middle;\n",
       "    }\n",
       "\n",
       "    .dataframe tbody tr th {\n",
       "        vertical-align: top;\n",
       "    }\n",
       "\n",
       "    .dataframe thead th {\n",
       "        text-align: right;\n",
       "    }\n",
       "</style>\n",
       "<table border=\"1\" class=\"dataframe\">\n",
       "  <thead>\n",
       "    <tr style=\"text-align: right;\">\n",
       "      <th></th>\n",
       "      <th>0</th>\n",
       "      <th>1</th>\n",
       "      <th>2</th>\n",
       "      <th>3</th>\n",
       "      <th>4</th>\n",
       "      <th>5</th>\n",
       "      <th>6</th>\n",
       "      <th>7</th>\n",
       "      <th>8</th>\n",
       "      <th>9</th>\n",
       "      <th>...</th>\n",
       "      <th>68</th>\n",
       "      <th>69</th>\n",
       "      <th>70</th>\n",
       "      <th>71</th>\n",
       "      <th>72</th>\n",
       "      <th>73</th>\n",
       "      <th>74</th>\n",
       "      <th>75</th>\n",
       "      <th>76</th>\n",
       "      <th>77</th>\n",
       "    </tr>\n",
       "  </thead>\n",
       "  <tbody>\n",
       "    <tr>\n",
       "      <th>0</th>\n",
       "      <td>Date</td>\n",
       "      <td>Global</td>\n",
       "      <td>US</td>\n",
       "      <td>GB</td>\n",
       "      <td>AU</td>\n",
       "      <td>CA</td>\n",
       "      <td>MX</td>\n",
       "      <td>PH</td>\n",
       "      <td>BR</td>\n",
       "      <td>IN</td>\n",
       "      <td>...</td>\n",
       "      <td>KZ</td>\n",
       "      <td>VE</td>\n",
       "      <td>MA</td>\n",
       "      <td>PK</td>\n",
       "      <td>UY</td>\n",
       "      <td>UA</td>\n",
       "      <td>Title</td>\n",
       "      <td>None</td>\n",
       "      <td>None</td>\n",
       "      <td>None</td>\n",
       "    </tr>\n",
       "    <tr>\n",
       "      <th>1</th>\n",
       "      <td>Total</td>\n",
       "      <td>3,478,314,272</td>\n",
       "      <td>1,172,234,001</td>\n",
       "      <td>179,080,240</td>\n",
       "      <td>171,047,349</td>\n",
       "      <td>158,845,706</td>\n",
       "      <td>122,047,420</td>\n",
       "      <td>86,631,462</td>\n",
       "      <td>52,750,370</td>\n",
       "      <td>42,557,037</td>\n",
       "      <td>...</td>\n",
       "      <td>205,312</td>\n",
       "      <td>164,680</td>\n",
       "      <td>139,787</td>\n",
       "      <td>139,773</td>\n",
       "      <td>51,103</td>\n",
       "      <td>37,634</td>\n",
       "      <td>Post Malone - Sunflower - Spider-Man: Into the...</td>\n",
       "      <td>None</td>\n",
       "      <td>None</td>\n",
       "      <td>None</td>\n",
       "    </tr>\n",
       "    <tr>\n",
       "      <th>2</th>\n",
       "      <td>Peak</td>\n",
       "      <td>1 (34,579,416)</td>\n",
       "      <td>1 (14,731,867)</td>\n",
       "      <td>3 (2,334,687)</td>\n",
       "      <td>1 (2,088,250)</td>\n",
       "      <td>2 (1,749,717)</td>\n",
       "      <td>8 (1,998,351)</td>\n",
       "      <td>3 (1,649,280)</td>\n",
       "      <td>56 (1,128,745)</td>\n",
       "      <td>3 (1,227,154)</td>\n",
       "      <td>...</td>\n",
       "      <td>50 (32,781)</td>\n",
       "      <td>102 (30,969)</td>\n",
       "      <td>68 (7,326)</td>\n",
       "      <td>157 (29,363)</td>\n",
       "      <td>151 (11,320)</td>\n",
       "      <td>155 (34,910)</td>\n",
       "      <td>Post Malone - Sunflower - Spider-Man: Into the...</td>\n",
       "      <td>None</td>\n",
       "      <td>None</td>\n",
       "      <td>None</td>\n",
       "    </tr>\n",
       "    <tr>\n",
       "      <th>3</th>\n",
       "      <td>2018/10/25</td>\n",
       "      <td>5 (25,233,843)</td>\n",
       "      <td>2 (10,667,603)</td>\n",
       "      <td>10 (1,938,027)</td>\n",
       "      <td>11 (1,092,314)</td>\n",
       "      <td>2 (1,580,585)</td>\n",
       "      <td>71 (613,940)</td>\n",
       "      <td>43 (424,033)</td>\n",
       "      <td>135 (573,081)</td>\n",
       "      <td>--</td>\n",
       "      <td>...</td>\n",
       "      <td>--</td>\n",
       "      <td>--</td>\n",
       "      <td>--</td>\n",
       "      <td>--</td>\n",
       "      <td>--</td>\n",
       "      <td>--</td>\n",
       "      <td>Post Malone - Sunflower - Spider-Man: Into the...</td>\n",
       "      <td>None</td>\n",
       "      <td>None</td>\n",
       "      <td>None</td>\n",
       "    </tr>\n",
       "    <tr>\n",
       "      <th>4</th>\n",
       "      <td>2018/11/01</td>\n",
       "      <td>5 (25,456,872)</td>\n",
       "      <td>4 (10,215,607)</td>\n",
       "      <td>8 (1,956,212)</td>\n",
       "      <td>2 (1,693,971)</td>\n",
       "      <td>2 (1,496,338)</td>\n",
       "      <td>49 (830,044)</td>\n",
       "      <td>31 (597,032)</td>\n",
       "      <td>121 (606,868)</td>\n",
       "      <td>--</td>\n",
       "      <td>...</td>\n",
       "      <td>--</td>\n",
       "      <td>--</td>\n",
       "      <td>--</td>\n",
       "      <td>--</td>\n",
       "      <td>--</td>\n",
       "      <td>--</td>\n",
       "      <td>Post Malone - Sunflower - Spider-Man: Into the...</td>\n",
       "      <td>None</td>\n",
       "      <td>None</td>\n",
       "      <td>None</td>\n",
       "    </tr>\n",
       "    <tr>\n",
       "      <th>...</th>\n",
       "      <td>...</td>\n",
       "      <td>...</td>\n",
       "      <td>...</td>\n",
       "      <td>...</td>\n",
       "      <td>...</td>\n",
       "      <td>...</td>\n",
       "      <td>...</td>\n",
       "      <td>...</td>\n",
       "      <td>...</td>\n",
       "      <td>...</td>\n",
       "      <td>...</td>\n",
       "      <td>...</td>\n",
       "      <td>...</td>\n",
       "      <td>...</td>\n",
       "      <td>...</td>\n",
       "      <td>...</td>\n",
       "      <td>...</td>\n",
       "      <td>...</td>\n",
       "      <td>...</td>\n",
       "      <td>...</td>\n",
       "      <td>...</td>\n",
       "    </tr>\n",
       "    <tr>\n",
       "      <th>299397</th>\n",
       "      <td>2015/03/22</td>\n",
       "      <td>253 (68,574)</td>\n",
       "      <td>Earl Sweatshirt - Faucet - Spotify Chart History</td>\n",
       "      <td>None</td>\n",
       "      <td>None</td>\n",
       "      <td>None</td>\n",
       "      <td>None</td>\n",
       "      <td>None</td>\n",
       "      <td>None</td>\n",
       "      <td>None</td>\n",
       "      <td>...</td>\n",
       "      <td>None</td>\n",
       "      <td>None</td>\n",
       "      <td>None</td>\n",
       "      <td>None</td>\n",
       "      <td>None</td>\n",
       "      <td>None</td>\n",
       "      <td>None</td>\n",
       "      <td>None</td>\n",
       "      <td>None</td>\n",
       "      <td>None</td>\n",
       "    </tr>\n",
       "    <tr>\n",
       "      <th>299398</th>\n",
       "      <td>Date</td>\n",
       "      <td>US</td>\n",
       "      <td>Title</td>\n",
       "      <td>None</td>\n",
       "      <td>None</td>\n",
       "      <td>None</td>\n",
       "      <td>None</td>\n",
       "      <td>None</td>\n",
       "      <td>None</td>\n",
       "      <td>None</td>\n",
       "      <td>...</td>\n",
       "      <td>None</td>\n",
       "      <td>None</td>\n",
       "      <td>None</td>\n",
       "      <td>None</td>\n",
       "      <td>None</td>\n",
       "      <td>None</td>\n",
       "      <td>None</td>\n",
       "      <td>None</td>\n",
       "      <td>None</td>\n",
       "      <td>None</td>\n",
       "    </tr>\n",
       "    <tr>\n",
       "      <th>299399</th>\n",
       "      <td>Total</td>\n",
       "      <td>67,174</td>\n",
       "      <td>Big Sean - Blessings - Extended Version - Spot...</td>\n",
       "      <td>None</td>\n",
       "      <td>None</td>\n",
       "      <td>None</td>\n",
       "      <td>None</td>\n",
       "      <td>None</td>\n",
       "      <td>None</td>\n",
       "      <td>None</td>\n",
       "      <td>...</td>\n",
       "      <td>None</td>\n",
       "      <td>None</td>\n",
       "      <td>None</td>\n",
       "      <td>None</td>\n",
       "      <td>None</td>\n",
       "      <td>None</td>\n",
       "      <td>None</td>\n",
       "      <td>None</td>\n",
       "      <td>None</td>\n",
       "      <td>None</td>\n",
       "    </tr>\n",
       "    <tr>\n",
       "      <th>299400</th>\n",
       "      <td>Peak</td>\n",
       "      <td>248 (67,174)</td>\n",
       "      <td>Big Sean - Blessings - Extended Version - Spot...</td>\n",
       "      <td>None</td>\n",
       "      <td>None</td>\n",
       "      <td>None</td>\n",
       "      <td>None</td>\n",
       "      <td>None</td>\n",
       "      <td>None</td>\n",
       "      <td>None</td>\n",
       "      <td>...</td>\n",
       "      <td>None</td>\n",
       "      <td>None</td>\n",
       "      <td>None</td>\n",
       "      <td>None</td>\n",
       "      <td>None</td>\n",
       "      <td>None</td>\n",
       "      <td>None</td>\n",
       "      <td>None</td>\n",
       "      <td>None</td>\n",
       "      <td>None</td>\n",
       "    </tr>\n",
       "    <tr>\n",
       "      <th>299401</th>\n",
       "      <td>2015/04/30</td>\n",
       "      <td>248 (67,174)</td>\n",
       "      <td>Big Sean - Blessings - Extended Version - Spot...</td>\n",
       "      <td>None</td>\n",
       "      <td>None</td>\n",
       "      <td>None</td>\n",
       "      <td>None</td>\n",
       "      <td>None</td>\n",
       "      <td>None</td>\n",
       "      <td>None</td>\n",
       "      <td>...</td>\n",
       "      <td>None</td>\n",
       "      <td>None</td>\n",
       "      <td>None</td>\n",
       "      <td>None</td>\n",
       "      <td>None</td>\n",
       "      <td>None</td>\n",
       "      <td>None</td>\n",
       "      <td>None</td>\n",
       "      <td>None</td>\n",
       "      <td>None</td>\n",
       "    </tr>\n",
       "  </tbody>\n",
       "</table>\n",
       "<p>299402 rows × 78 columns</p>\n",
       "</div>"
      ],
      "text/plain": [
       "                0               1   \\\n",
       "0             Date          Global   \n",
       "1            Total   3,478,314,272   \n",
       "2             Peak  1 (34,579,416)   \n",
       "3       2018/10/25  5 (25,233,843)   \n",
       "4       2018/11/01  5 (25,456,872)   \n",
       "...            ...             ...   \n",
       "299397  2015/03/22    253 (68,574)   \n",
       "299398        Date              US   \n",
       "299399       Total          67,174   \n",
       "299400        Peak    248 (67,174)   \n",
       "299401  2015/04/30    248 (67,174)   \n",
       "\n",
       "                                                       2               3   \\\n",
       "0                                                      US              GB   \n",
       "1                                           1,172,234,001     179,080,240   \n",
       "2                                          1 (14,731,867)   3 (2,334,687)   \n",
       "3                                          2 (10,667,603)  10 (1,938,027)   \n",
       "4                                          4 (10,215,607)   8 (1,956,212)   \n",
       "...                                                   ...             ...   \n",
       "299397   Earl Sweatshirt - Faucet - Spotify Chart History            None   \n",
       "299398                                              Title            None   \n",
       "299399  Big Sean - Blessings - Extended Version - Spot...            None   \n",
       "299400  Big Sean - Blessings - Extended Version - Spot...            None   \n",
       "299401  Big Sean - Blessings - Extended Version - Spot...            None   \n",
       "\n",
       "                    4              5              6              7   \\\n",
       "0                   AU             CA             MX             PH   \n",
       "1          171,047,349    158,845,706    122,047,420     86,631,462   \n",
       "2        1 (2,088,250)  2 (1,749,717)  8 (1,998,351)  3 (1,649,280)   \n",
       "3       11 (1,092,314)  2 (1,580,585)   71 (613,940)   43 (424,033)   \n",
       "4        2 (1,693,971)  2 (1,496,338)   49 (830,044)   31 (597,032)   \n",
       "...                ...            ...            ...            ...   \n",
       "299397            None           None           None           None   \n",
       "299398            None           None           None           None   \n",
       "299399            None           None           None           None   \n",
       "299400            None           None           None           None   \n",
       "299401            None           None           None           None   \n",
       "\n",
       "                    8              9   ...           68            69  \\\n",
       "0                   BR             IN  ...           KZ            VE   \n",
       "1           52,750,370     42,557,037  ...      205,312       164,680   \n",
       "2       56 (1,128,745)  3 (1,227,154)  ...  50 (32,781)  102 (30,969)   \n",
       "3        135 (573,081)             --  ...           --            --   \n",
       "4        121 (606,868)             --  ...           --            --   \n",
       "...                ...            ...  ...          ...           ...   \n",
       "299397            None           None  ...         None          None   \n",
       "299398            None           None  ...         None          None   \n",
       "299399            None           None  ...         None          None   \n",
       "299400            None           None  ...         None          None   \n",
       "299401            None           None  ...         None          None   \n",
       "\n",
       "                70            71            72            73  \\\n",
       "0               MA            PK            UY            UA   \n",
       "1          139,787       139,773        51,103        37,634   \n",
       "2       68 (7,326)  157 (29,363)  151 (11,320)  155 (34,910)   \n",
       "3               --            --            --            --   \n",
       "4               --            --            --            --   \n",
       "...            ...           ...           ...           ...   \n",
       "299397        None          None          None          None   \n",
       "299398        None          None          None          None   \n",
       "299399        None          None          None          None   \n",
       "299400        None          None          None          None   \n",
       "299401        None          None          None          None   \n",
       "\n",
       "                                                       74    75    76    77  \n",
       "0                                                   Title  None  None  None  \n",
       "1       Post Malone - Sunflower - Spider-Man: Into the...  None  None  None  \n",
       "2       Post Malone - Sunflower - Spider-Man: Into the...  None  None  None  \n",
       "3       Post Malone - Sunflower - Spider-Man: Into the...  None  None  None  \n",
       "4       Post Malone - Sunflower - Spider-Man: Into the...  None  None  None  \n",
       "...                                                   ...   ...   ...   ...  \n",
       "299397                                               None  None  None  None  \n",
       "299398                                               None  None  None  None  \n",
       "299399                                               None  None  None  None  \n",
       "299400                                               None  None  None  None  \n",
       "299401                                               None  None  None  None  \n",
       "\n",
       "[299402 rows x 78 columns]"
      ]
     },
     "execution_count": 6,
     "metadata": {},
     "output_type": "execute_result"
    }
   ],
   "source": [
    "csv_to_open = output_csv #f'/Users/jeremiasfigueroa/Desktop/Data Projects/USA Hit Music Analysis Project/Spotify 200 Analysis/updated_kworb_data_{formatted_date}.csv'\n",
    "\n",
    "# Step 1: Read the file and determine the maximum number of columns\n",
    "with open(csv_to_open, 'r', encoding='utf-8') as f:\n",
    "    reader = csv.reader(f)\n",
    "    max_cols = max(len(row) for row in reader)\n",
    "\n",
    "# Step 2: Re-read the file with the maximum number of columns\n",
    "df = pd.read_csv(\n",
    "    csv_to_open,\n",
    "    engine='python', header=None, on_bad_lines='skip', names=range(max_cols)\n",
    ")\n",
    "\n",
    "df"
   ]
  },
  {
   "cell_type": "code",
   "execution_count": 7,
   "metadata": {},
   "outputs": [
    {
     "name": "stdout",
     "output_type": "stream",
     "text": [
      "8687\n"
     ]
    },
    {
     "data": {
      "text/html": [
       "<div>\n",
       "<style scoped>\n",
       "    .dataframe tbody tr th:only-of-type {\n",
       "        vertical-align: middle;\n",
       "    }\n",
       "\n",
       "    .dataframe tbody tr th {\n",
       "        vertical-align: top;\n",
       "    }\n",
       "\n",
       "    .dataframe thead th {\n",
       "        text-align: right;\n",
       "    }\n",
       "</style>\n",
       "<table border=\"1\" class=\"dataframe\">\n",
       "  <thead>\n",
       "    <tr style=\"text-align: right;\">\n",
       "      <th></th>\n",
       "      <th>Date</th>\n",
       "      <th>US</th>\n",
       "      <th>Title</th>\n",
       "    </tr>\n",
       "  </thead>\n",
       "  <tbody>\n",
       "    <tr>\n",
       "      <th>0</th>\n",
       "      <td>Total</td>\n",
       "      <td>1,172,234,001</td>\n",
       "      <td>Post Malone - Sunflower - Spider-Man: Into the...</td>\n",
       "    </tr>\n",
       "    <tr>\n",
       "      <th>1</th>\n",
       "      <td>Peak</td>\n",
       "      <td>1 (14,731,867)</td>\n",
       "      <td>Post Malone - Sunflower - Spider-Man: Into the...</td>\n",
       "    </tr>\n",
       "    <tr>\n",
       "      <th>2</th>\n",
       "      <td>2018/10/25</td>\n",
       "      <td>2 (10,667,603)</td>\n",
       "      <td>Post Malone - Sunflower - Spider-Man: Into the...</td>\n",
       "    </tr>\n",
       "    <tr>\n",
       "      <th>3</th>\n",
       "      <td>2018/11/01</td>\n",
       "      <td>4 (10,215,607)</td>\n",
       "      <td>Post Malone - Sunflower - Spider-Man: Into the...</td>\n",
       "    </tr>\n",
       "    <tr>\n",
       "      <th>4</th>\n",
       "      <td>2018/11/08</td>\n",
       "      <td>5 (9,376,246)</td>\n",
       "      <td>Post Malone - Sunflower - Spider-Man: Into the...</td>\n",
       "    </tr>\n",
       "    <tr>\n",
       "      <th>...</th>\n",
       "      <td>...</td>\n",
       "      <td>...</td>\n",
       "      <td>...</td>\n",
       "    </tr>\n",
       "    <tr>\n",
       "      <th>290710</th>\n",
       "      <td>Peak</td>\n",
       "      <td>253 (68,574)</td>\n",
       "      <td>Earl Sweatshirt - Faucet - Spotify Chart History</td>\n",
       "    </tr>\n",
       "    <tr>\n",
       "      <th>290711</th>\n",
       "      <td>2015/03/22</td>\n",
       "      <td>253 (68,574)</td>\n",
       "      <td>Earl Sweatshirt - Faucet - Spotify Chart History</td>\n",
       "    </tr>\n",
       "    <tr>\n",
       "      <th>290712</th>\n",
       "      <td>Total</td>\n",
       "      <td>67,174</td>\n",
       "      <td>Big Sean - Blessings - Extended Version - Spot...</td>\n",
       "    </tr>\n",
       "    <tr>\n",
       "      <th>290713</th>\n",
       "      <td>Peak</td>\n",
       "      <td>248 (67,174)</td>\n",
       "      <td>Big Sean - Blessings - Extended Version - Spot...</td>\n",
       "    </tr>\n",
       "    <tr>\n",
       "      <th>290714</th>\n",
       "      <td>2015/04/30</td>\n",
       "      <td>248 (67,174)</td>\n",
       "      <td>Big Sean - Blessings - Extended Version - Spot...</td>\n",
       "    </tr>\n",
       "  </tbody>\n",
       "</table>\n",
       "<p>290715 rows × 3 columns</p>\n",
       "</div>"
      ],
      "text/plain": [
       "              Date              US  \\\n",
       "0            Total   1,172,234,001   \n",
       "1             Peak  1 (14,731,867)   \n",
       "2       2018/10/25  2 (10,667,603)   \n",
       "3       2018/11/01  4 (10,215,607)   \n",
       "4       2018/11/08   5 (9,376,246)   \n",
       "...            ...             ...   \n",
       "290710        Peak    253 (68,574)   \n",
       "290711  2015/03/22    253 (68,574)   \n",
       "290712       Total          67,174   \n",
       "290713        Peak    248 (67,174)   \n",
       "290714  2015/04/30    248 (67,174)   \n",
       "\n",
       "                                                    Title  \n",
       "0       Post Malone - Sunflower - Spider-Man: Into the...  \n",
       "1       Post Malone - Sunflower - Spider-Man: Into the...  \n",
       "2       Post Malone - Sunflower - Spider-Man: Into the...  \n",
       "3       Post Malone - Sunflower - Spider-Man: Into the...  \n",
       "4       Post Malone - Sunflower - Spider-Man: Into the...  \n",
       "...                                                   ...  \n",
       "290710   Earl Sweatshirt - Faucet - Spotify Chart History  \n",
       "290711   Earl Sweatshirt - Faucet - Spotify Chart History  \n",
       "290712  Big Sean - Blessings - Extended Version - Spot...  \n",
       "290713  Big Sean - Blessings - Extended Version - Spot...  \n",
       "290714  Big Sean - Blessings - Extended Version - Spot...  \n",
       "\n",
       "[290715 rows x 3 columns]"
      ]
     },
     "execution_count": 7,
     "metadata": {},
     "output_type": "execute_result"
    }
   ],
   "source": [
    "# Initialize variables\n",
    "extracted_data = []\n",
    "current_chunk = None\n",
    "\n",
    "# Iterate over the rows of the DataFrame\n",
    "for index, row in df.iterrows():\n",
    "    # Identify the start of a new mini-CSV by checking for the 'Date', 'Title', and 'US' columns in a row\n",
    "    if row.str.contains('Date', case=False).any() and row.str.contains('Title', case=False).any() and row.str.contains('US', case=False).any():\n",
    "        # Process the previous chunk if it exists\n",
    "        if current_chunk is not None:\n",
    "            # Extract the 'Date', 'US', and 'Title' columns if they exist in the current chunk\n",
    "            try:\n",
    "                extracted_data.append(current_chunk[['Date', 'US', 'Title']])\n",
    "            except KeyError:\n",
    "                pass  # In case one of these columns is missing, skip this chunk\n",
    "\n",
    "        # Start a new chunk with current row as the header\n",
    "        current_chunk = pd.DataFrame(columns=row)\n",
    "        \n",
    "    # If we're in the middle of processing a chunk, append rows to the current chunk\n",
    "    elif current_chunk is not None:\n",
    "        # Convert row to DataFrame and add it to current_chunk using concat\n",
    "        row_df = pd.DataFrame([row.values], columns=current_chunk.columns)\n",
    "        current_chunk = pd.concat([current_chunk, row_df], ignore_index=True)\n",
    "\n",
    "# Process the last chunk if it exists\n",
    "if current_chunk is not None:\n",
    "    try:\n",
    "        extracted_data.append(current_chunk[['Date', 'US', 'Title']])\n",
    "    except KeyError:\n",
    "        pass\n",
    "\n",
    "# Concatenate all chunks into a final DataFrame\n",
    "if extracted_data:\n",
    "    final_df = pd.concat(extracted_data, ignore_index=True)\n",
    "else:\n",
    "    final_df = pd.DataFrame(columns=['Date', 'US', 'Title'])  # Empty DataFrame in case of no data\n",
    "\n",
    "final_csv = f'/Users/jeremiasfigueroa/Desktop/Data Projects/USA Hit Music Analysis Project/Spotify 200 Analysis/CLEANED_spotify_chart_data_{formatted_date}.csv'\n",
    "\n",
    "# Save the result to a new CSV file\n",
    "final_df.to_csv(final_csv, index=False)\n",
    "\n",
    "# Check how many songs are present\n",
    "print(len(final_df[(final_df['Date']=='Total')]))\n",
    "\n",
    "# # Check the result\n",
    "final_df"
   ]
  }
 ],
 "metadata": {
  "kernelspec": {
   "display_name": "Python 3.12.4 64-bit",
   "language": "python",
   "name": "python3"
  },
  "language_info": {
   "codemirror_mode": {
    "name": "ipython",
    "version": 3
   },
   "file_extension": ".py",
   "mimetype": "text/x-python",
   "name": "python",
   "nbconvert_exporter": "python",
   "pygments_lexer": "ipython3",
   "version": "3.12.4"
  },
  "orig_nbformat": 4,
  "vscode": {
   "interpreter": {
    "hash": "aee8b7b246df8f9039afb4144a1f6fd8d2ca17a180786b69acc140d282b71a49"
   }
  }
 },
 "nbformat": 4,
 "nbformat_minor": 2
}
